{
 "cells": [
  {
   "cell_type": "code",
   "execution_count": 12,
   "id": "24ad5d57-0e39-4bb8-bf62-af06cd400db3",
   "metadata": {},
   "outputs": [],
   "source": [
    "import os\n",
    "import pandas as pd"
   ]
  },
  {
   "cell_type": "code",
   "execution_count": 13,
   "id": "9728b77f-e5f1-487e-8d01-cd45f5aef96a",
   "metadata": {},
   "outputs": [],
   "source": [
    "try: \n",
    "    BASE_DIR = os.path.dirname(os.path.abspath(__file__)) # works on Python\n",
    "except NameError:\n",
    "    BASE_DIR = os.getcwd() # Works on Jupyter Lab\n",
    "\n",
    "# Uncomment to see what the Base Directory is, so you know the levels to add for the following paths\n",
    "# print(BASE_DIR)\n",
    "    \n",
    "# path to chamber_analysis\n",
    "analysis_path = os.path.join(BASE_DIR, \"chamber_analysis_log.csv\")"
   ]
  },
  {
   "cell_type": "code",
   "execution_count": 16,
   "id": "c2c135e4-fb3c-4a21-9c4f-be33f10833d9",
   "metadata": {},
   "outputs": [
    {
     "name": "stdout",
     "output_type": "stream",
     "text": [
      "           mean       std       var\n",
      "group                              \n",
      "0      0.540453  0.227516  0.051763\n",
      "1      0.466227  0.116433  0.013557\n",
      "2      0.354047  0.155122  0.024063\n",
      "3      0.327297  0.114420  0.013092\n",
      "4      0.423792  0.182242  0.033212\n",
      "5      0.446340  0.102135  0.010432\n"
     ]
    }
   ],
   "source": [
    "df = pd.read_csv(analysis_path)\n",
    "\n",
    "group_size = 8\n",
    "df['group'] = df.index // group_size\n",
    "\n",
    "variability = df.groupby('group')['Area (mm^2)'].agg(['mean', 'std', 'var'])\n",
    "\n",
    "print(variability)"
   ]
  },
  {
   "cell_type": "code",
   "execution_count": null,
   "id": "28ae5c7f-638d-45cf-b7c6-26b33f66c6aa",
   "metadata": {},
   "outputs": [],
   "source": []
  }
 ],
 "metadata": {
  "kernelspec": {
   "display_name": "Plant Imaging Env",
   "language": "python",
   "name": "plant_env"
  },
  "language_info": {
   "codemirror_mode": {
    "name": "ipython",
    "version": 3
   },
   "file_extension": ".py",
   "mimetype": "text/x-python",
   "name": "python",
   "nbconvert_exporter": "python",
   "pygments_lexer": "ipython3",
   "version": "3.12.12"
  }
 },
 "nbformat": 4,
 "nbformat_minor": 5
}
