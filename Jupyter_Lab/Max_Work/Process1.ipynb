{
 "cells": [
  {
   "cell_type": "code",
   "execution_count": 1,
   "id": "db79be3c-9522-47ef-ba64-0119c9efac1f",
   "metadata": {},
   "outputs": [
    {
     "name": "stdout",
     "output_type": "stream",
     "text": [
      "PlantCV Version: 4.9\n"
     ]
    }
   ],
   "source": [
    "# only needed in Jupyter Lab to see the images inline\n",
    "%matplotlib widget\n",
    "\n",
    "from plantcv import plantcv as pcv\n",
    "from plantcv.parallel import WorkflowInputs\n",
    "import matplotlib.pyplot as plt\n",
    "\n",
    "print(\"PlantCV Version:\", pcv.__version__)"
   ]
  },
  {
   "cell_type": "code",
   "execution_count": 2,
   "id": "3941cbfa-9a8f-4d63-bffa-23a7cb9636bb",
   "metadata": {},
   "outputs": [
    {
     "name": "stderr",
     "output_type": "stream",
     "text": [
      "<>:3: SyntaxWarning: invalid escape sequence '\\ '\n",
      "<>:3: SyntaxWarning: invalid escape sequence '\\ '\n",
      "/var/folders/g7/073qszv139vg1wd5lm_wzghm0000gn/T/ipykernel_7167/1501381423.py:3: SyntaxWarning: invalid escape sequence '\\ '\n",
      "  images=[\"/Users/maxwellrosen/Storage/Salk_Plant_Imaging/eckerlabproj/Jupyter\\ Lab\\ Notebooks/Max\\'s/test_image.jpg\"],\n"
     ]
    }
   ],
   "source": [
    "# Input/output options\n",
    "args = WorkflowInputs(\n",
    "    images=[\"/Users/maxwellrosen/Storage/Salk_Plant_Imaging/eckerlabproj/Jupyter\\ Lab\\ Notebooks/Max\\'s/test_image.jpg\"],\n",
    "    names=\"image1\",\n",
    "    result=\"example_results.json\",\n",
    "    outdir=\".\",\n",
    "    writeimg=False,\n",
    "    debug=\"plot\"\n",
    "    )"
   ]
  },
  {
   "cell_type": "code",
   "execution_count": 3,
   "id": "126d91af-59d4-4b4e-a029-3bbdf7ffc89f",
   "metadata": {},
   "outputs": [],
   "source": [
    "# Set debug to the global parameter \n",
    "pcv.params.debug = args.debug\n",
    "# Change display settings\n",
    "pcv.params.dpi = 100\n",
    "# Increase text size and thickness to make labels clearer\n",
    "# (size may need to be altered based on original image size)\n",
    "pcv.params.text_size = 10\n",
    "pcv.params.text_thickness = 20"
   ]
  },
  {
   "cell_type": "code",
   "execution_count": 4,
   "id": "f0060c08-5803-4a17-a85a-731ca01b2edf",
   "metadata": {
    "scrolled": true
   },
   "outputs": [
    {
     "name": "stderr",
     "output_type": "stream",
     "text": [
      "[ WARN:0@3.395] global loadsave.cpp:275 findDecoder imread_('/Users/maxwellrosen/Storage/Salk_Plant_Imaging/eckerlabproj/Jupyter\\ Lab\\ Notebooks/Max's/test_image.jpg'): can't open/read file: check file path/integrity\n"
     ]
    },
    {
     "ename": "RuntimeError",
     "evalue": "Failed to open /Users/maxwellrosen/Storage/Salk_Plant_Imaging/eckerlabproj/Jupyter\\ Lab\\ Notebooks/Max's/test_image.jpg",
     "output_type": "error",
     "traceback": [
      "\u001b[31m---------------------------------------------------------------------------\u001b[39m",
      "\u001b[31mRuntimeError\u001b[39m                              Traceback (most recent call last)",
      "\u001b[36mCell\u001b[39m\u001b[36m \u001b[39m\u001b[32mIn[4]\u001b[39m\u001b[32m, line 2\u001b[39m\n\u001b[32m      1\u001b[39m \u001b[38;5;66;03m# Shows your image, defines it as \"img\"\u001b[39;00m\n\u001b[32m----> \u001b[39m\u001b[32m2\u001b[39m img, path, filename = \u001b[43mpcv\u001b[49m\u001b[43m.\u001b[49m\u001b[43mreadimage\u001b[49m\u001b[43m(\u001b[49m\u001b[43mfilename\u001b[49m\u001b[43m=\u001b[49m\u001b[43margs\u001b[49m\u001b[43m.\u001b[49m\u001b[43mimage1\u001b[49m\u001b[43m)\u001b[49m\n",
      "\u001b[36mFile \u001b[39m\u001b[32m~/Storage/Salk_Plant_Imaging/plant_env/lib/python3.12/site-packages/plantcv/plantcv/readimage.py:54\u001b[39m, in \u001b[36mreadimage\u001b[39m\u001b[34m(filename, mode)\u001b[39m\n\u001b[32m     51\u001b[39m     img = cv2.imread(filename)\n\u001b[32m     53\u001b[39m \u001b[38;5;28;01mif\u001b[39;00m img \u001b[38;5;129;01mis\u001b[39;00m \u001b[38;5;28;01mNone\u001b[39;00m:\n\u001b[32m---> \u001b[39m\u001b[32m54\u001b[39m     \u001b[43mfatal_error\u001b[49m\u001b[43m(\u001b[49m\u001b[33;43m\"\u001b[39;49m\u001b[33;43mFailed to open \u001b[39;49m\u001b[33;43m\"\u001b[39;49m\u001b[43m \u001b[49m\u001b[43m+\u001b[49m\u001b[43m \u001b[49m\u001b[43mfilename\u001b[49m\u001b[43m)\u001b[49m\n\u001b[32m     56\u001b[39m \u001b[38;5;66;03m# Split path from filename\u001b[39;00m\n\u001b[32m     57\u001b[39m path, img_name = os.path.split(filename)\n",
      "\u001b[36mFile \u001b[39m\u001b[32m~/Storage/Salk_Plant_Imaging/plant_env/lib/python3.12/site-packages/plantcv/plantcv/fatal_error.py:13\u001b[39m, in \u001b[36mfatal_error\u001b[39m\u001b[34m(error)\u001b[39m\n\u001b[32m      4\u001b[39m \u001b[38;5;28;01mdef\u001b[39;00m\u001b[38;5;250m \u001b[39m\u001b[34mfatal_error\u001b[39m(error):\n\u001b[32m      5\u001b[39m \u001b[38;5;250m    \u001b[39m\u001b[33;03m\"\"\"Print out the error message that gets passed, then quit the program.\u001b[39;00m\n\u001b[32m      6\u001b[39m \n\u001b[32m      7\u001b[39m \u001b[33;03m    Inputs:\u001b[39;00m\n\u001b[32m   (...)\u001b[39m\u001b[32m     11\u001b[39m \u001b[33;03m    :return:\u001b[39;00m\n\u001b[32m     12\u001b[39m \u001b[33;03m    \"\"\"\u001b[39;00m\n\u001b[32m---> \u001b[39m\u001b[32m13\u001b[39m     \u001b[38;5;28;01mraise\u001b[39;00m \u001b[38;5;167;01mRuntimeError\u001b[39;00m(error)\n",
      "\u001b[31mRuntimeError\u001b[39m: Failed to open /Users/maxwellrosen/Storage/Salk_Plant_Imaging/eckerlabproj/Jupyter\\ Lab\\ Notebooks/Max's/test_image.jpg"
     ]
    }
   ],
   "source": [
    "# Shows your image, defines it as \"img\"\n",
    "img, path, filename = pcv.readimage(filename=args.image1)"
   ]
  },
  {
   "cell_type": "code",
   "execution_count": null,
   "id": "5c1090e9-d376-4d94-85de-d6d67e7d94ea",
   "metadata": {},
   "outputs": [],
   "source": [
    "# Crops your image\n",
    "crop_img = pcv.crop(img=img, x=800, y=480, h=1600, w=1700)"
   ]
  },
  {
   "cell_type": "code",
   "execution_count": null,
   "id": "2b70174f-55a5-4ebd-a4c2-3a6f6fa0d341",
   "metadata": {},
   "outputs": [],
   "source": [
    "# Shows options for which channel to view the image through (ideally want the most contrast)\n",
    "colorspace_img = pcv.visualize.colorspaces(rgb_img=crop_img)"
   ]
  },
  {
   "cell_type": "code",
   "execution_count": null,
   "id": "fff5aa50-c650-44fc-963c-b5f2d79c0aba",
   "metadata": {},
   "outputs": [],
   "source": [
    "# Actually picks a channel with rgb2gray_\"lab\" and then the channel is the letter from \"lab\" that you look through\n",
    "b_img = pcv.rgb2gray_lab(rgb_img=crop_img, channel='b')"
   ]
  },
  {
   "cell_type": "code",
   "execution_count": null,
   "id": "c489e9e5-54cb-4182-9a4d-7f850032287d",
   "metadata": {},
   "outputs": [],
   "source": [
    "# Visualization only, not needed for analysis\n",
    "hist_figure1, hist_data1 = pcv.visualize.histogram(img = b_img, hist_data=True)"
   ]
  },
  {
   "cell_type": "code",
   "execution_count": null,
   "id": "373b293c-7479-4232-bba0-1dd2ea91b8c9",
   "metadata": {},
   "outputs": [],
   "source": [
    "# Masks the image\n",
    "thresh_mask = pcv.threshold.binary(gray_img=b_img, threshold=140, object_type='light')"
   ]
  },
  {
   "cell_type": "code",
   "execution_count": null,
   "id": "1eb86a42-598e-491f-9cd1-d1e03db89c01",
   "metadata": {},
   "outputs": [],
   "source": [
    "# Deletes groups of pixels less than the pixel size (weird dots around edges not plant is unmasked)\n",
    "fill_mask = pcv.fill(bin_img=thresh_mask, size=3000)"
   ]
  },
  {
   "cell_type": "code",
   "execution_count": null,
   "id": "b5738cea-fbb0-4094-b6a5-e052e40acf9d",
   "metadata": {},
   "outputs": [],
   "source": [
    "# Defines Region of Interest (ROI)\n",
    "roi = pcv.roi.rectangle(img=fill_mask, x=200, y=200, h=200, w=200)"
   ]
  },
  {
   "cell_type": "code",
   "execution_count": null,
   "id": "d025b8ed-01b3-4b02-97c1-60880f6b78fc",
   "metadata": {},
   "outputs": [],
   "source": [
    "# Makes a new mask only with plant inside ROI\n",
    "kept_mask  = pcv.roi.quick_filter(mask=fill_mask, roi=roi)"
   ]
  },
  {
   "cell_type": "code",
   "execution_count": null,
   "id": "93d0d06c-3f76-4d29-84a2-0bce30cb6c08",
   "metadata": {},
   "outputs": [],
   "source": [
    "# Outputs analyzed image\n",
    "analysis_image = pcv.analyze.size(img=crop_img, labeled_mask=kept_mask)"
   ]
  },
  {
   "cell_type": "code",
   "execution_count": null,
   "id": "a8259483-c327-449d-b6f3-d7fc6f6f6709",
   "metadata": {},
   "outputs": [],
   "source": [
    "# Makes histogram of colors inside ROI\n",
    "color_histogram = pcv.analyze.color(rgb_img=crop_img, labeled_mask=kept_mask, colorspaces='all', label=\"default\")"
   ]
  },
  {
   "cell_type": "code",
   "execution_count": null,
   "id": "0aab79f7-110e-44e6-a42f-374b8dc07067",
   "metadata": {},
   "outputs": [],
   "source": [
    "# Saves results for the 1 image (running again overwites past results)\n",
    "pcv.outputs.save_results(filename= args.result)"
   ]
  },
  {
   "cell_type": "code",
   "execution_count": null,
   "id": "32f258d5-570e-41aa-872c-9226d7cd2eee",
   "metadata": {},
   "outputs": [],
   "source": [
    "# Prints how many pixels were counted\n",
    "pixels_value = pcv.outputs.observations[\"default_1\"][\"area\"][\"value\"]\n",
    "pixels_label = pcv.outputs.observations[\"default_1\"][\"area\"][\"label\"]\n",
    "\n",
    "print(\"Number of pixels:\", pixels_value, pixels_label)"
   ]
  },
  {
   "cell_type": "code",
   "execution_count": null,
   "id": "d7b54cb9-2a10-42bf-8170-d0fce6326f24",
   "metadata": {},
   "outputs": [],
   "source": [
    "plt.close('all')"
   ]
  },
  {
   "cell_type": "code",
   "execution_count": null,
   "id": "1478e92b-6c64-4992-882d-6a204a1f5cd8",
   "metadata": {},
   "outputs": [],
   "source": []
  }
 ],
 "metadata": {
  "kernelspec": {
   "display_name": "Plant Imaging Env",
   "language": "python",
   "name": "plant_env"
  },
  "language_info": {
   "codemirror_mode": {
    "name": "ipython",
    "version": 3
   },
   "file_extension": ".py",
   "mimetype": "text/x-python",
   "name": "python",
   "nbconvert_exporter": "python",
   "pygments_lexer": "ipython3",
   "version": "3.12.12"
  }
 },
 "nbformat": 4,
 "nbformat_minor": 5
}
