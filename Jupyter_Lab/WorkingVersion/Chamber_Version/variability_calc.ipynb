{
 "cells": [
  {
   "cell_type": "code",
   "execution_count": 29,
   "id": "24ad5d57-0e39-4bb8-bf62-af06cd400db3",
   "metadata": {},
   "outputs": [],
   "source": [
    "import os\n",
    "import pandas as pd"
   ]
  },
  {
   "cell_type": "code",
   "execution_count": 30,
   "id": "9728b77f-e5f1-487e-8d01-cd45f5aef96a",
   "metadata": {},
   "outputs": [
    {
     "name": "stdout",
     "output_type": "stream",
     "text": [
      "/Users/maxwellrosen/Storage/Salk_Plant_Imaging/eckerlabproj/Jupyter_Lab/WorkingVersion/Chamber_Version\n"
     ]
    }
   ],
   "source": [
    "BASE_DIR = os.getcwd()\n",
    "\n",
    "# Uncomment to see what the Base Directory is, so you know the levels to add for the following paths\n",
    "print(BASE_DIR)\n",
    "    \n",
    "# path to chamber_analysis\n",
    "analysis_path = os.path.join(BASE_DIR, \"chamber_analysis_log.csv\")"
   ]
  },
  {
   "cell_type": "code",
   "execution_count": 31,
   "id": "c2c135e4-fb3c-4a21-9c4f-be33f10833d9",
   "metadata": {},
   "outputs": [
    {
     "name": "stdout",
     "output_type": "stream",
     "text": [
      "    plant_name       mean  count        std         var\n",
      "0  Camta1-2/T3  38.196332     24  18.355641  336.929550\n",
      "1        Col-O  47.075509     24  13.083775  171.185179\n"
     ]
    }
   ],
   "source": [
    "# Loads results\n",
    "df = pd.read_csv(analysis_path)\n",
    "\n",
    "# Groups by plant_name and calculates area statistics\n",
    "variability = df.groupby('plant_name')['Area (mm^2)'].agg(['mean', 'count', 'std', 'var']).reset_index()\n",
    "\n",
    "print(variability)\n",
    "\n",
    "# Can save to a new file:\n",
    "# variability.to_csv(os.path.join(BASE_DIR, \"plant_variability_summary.csv\"), index=False)"
   ]
  },
  {
   "cell_type": "code",
   "execution_count": null,
   "id": "28ae5c7f-638d-45cf-b7c6-26b33f66c6aa",
   "metadata": {},
   "outputs": [],
   "source": []
  }
 ],
 "metadata": {
  "kernelspec": {
   "display_name": "Plant Imaging Env",
   "language": "python",
   "name": "plant_env"
  },
  "language_info": {
   "codemirror_mode": {
    "name": "ipython",
    "version": 3
   },
   "file_extension": ".py",
   "mimetype": "text/x-python",
   "name": "python",
   "nbconvert_exporter": "python",
   "pygments_lexer": "ipython3",
   "version": "3.12.12"
  }
 },
 "nbformat": 4,
 "nbformat_minor": 5
}
