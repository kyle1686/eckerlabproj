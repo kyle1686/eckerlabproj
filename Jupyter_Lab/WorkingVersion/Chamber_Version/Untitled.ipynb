{
 "cells": [
  {
   "cell_type": "markdown",
   "id": "15987e6a-ed7e-463c-8f4c-6952cd0812cb",
   "metadata": {},
   "source": [
    "Google Drive Test"
   ]
  },
  {
   "cell_type": "code",
   "execution_count": null,
   "id": "b374b7cb-6fd0-4b83-ba85-bd17fa82a990",
   "metadata": {},
   "outputs": [],
   "source": []
  },
  {
   "cell_type": "code",
   "execution_count": null,
   "id": "fcfa667e-e1ba-4d3e-a441-8eb9e7fd364e",
   "metadata": {},
   "outputs": [],
   "source": []
  }
 ],
 "metadata": {
  "kernelspec": {
   "display_name": "Plant Imaging Env",
   "language": "python",
   "name": "plant_env"
  },
  "language_info": {
   "codemirror_mode": {
    "name": "ipython",
    "version": 3
   },
   "file_extension": ".py",
   "mimetype": "text/x-python",
   "name": "python",
   "nbconvert_exporter": "python",
   "pygments_lexer": "ipython3",
   "version": "3.12.12"
  }
 },
 "nbformat": 4,
 "nbformat_minor": 5
}
